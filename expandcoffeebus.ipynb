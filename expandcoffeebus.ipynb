{
 "cells": [
  {
   "cell_type": "markdown",
   "metadata": {},
   "source": [
    "<h1>EXPANDING A SPECIALISED COFFEE BUSINESS</h1>\n",
    "<h2>Introduction</h2>\n",
    "<p>A friend owns and operates a successful coffee roasting and snack food business. Their business model delivers bespoke coffee blends, roasted and delivered daily to coffee shops situated close to their roasters. They also produce a range of coffee snacks, which are made popular through effective marketing to millennial and Gen Y professionals on social media.</p>\n",
    "<p>They are now looking to expand their business into Europe and are seeking a location to establish a roaster and centre of operations. They have set down some pre-requisites when finding an ideal location, including desirability (they intend living there with their families). They will also establish their roasting business and bakery close to their target market, as the freshness of their product is a key part of their value proposition.</p>"
   ]
  },
  {
   "cell_type": "markdown",
   "metadata": {},
   "source": [
    "<h2>Problem</h2>\n",
    "<p>Social media and word of mouth has been good to help them narrow down a region and consider some of its environmental and cultural nuances. They've decided they need a more systematic approach to assessing locations however and have asked what data science could do to assist.</p>\n",
    "<p> They need to expand to a location that enjoys and consumes a lot of coffee but it also needs to be somewhere that is going to work for the family. They like the hustle and bustle of big cities, as these tend to fit in with their urban lifestyles.</p>\n",
    "As far as the business is concerned, they have made the following assumptions:\n",
    "<ul>\n",
    "    <li>The higher the density of coffee shops situated near to the work place, the higher the <b>likelihood</b> that people (workers) will buy coffee from a coffee shops rather simply using the coffee machine in the office</li>\n",
    "    <li>The higher the consumption of coffee in a given country, the more chances (<b>frequency</b>) they have to increase sales and make the venture a success</li>\n",
    "</ul>\n",
    "<h3>They have asked us to help them, establish a simple way of compiling a list of target cities, and then building a model to compare each city using the criteria above.</h3>\n",
    "<b>Note</b>: We have assumed that our friends will undertake a separate study to compare inputs at each location such as cost (rent, labour, raw materials) and price economics to determine profitability of their business venture. Other cultural factors such as <i>fika</i> in Sweden have also been excluded, as this would over complicate the assessment."
   ]
  },
  {
   "cell_type": "markdown",
   "metadata": {},
   "source": [
    "<h1>DATA SECTION</h1>\n",
    "<p>When considering the problem, we need to understand a number of factors including coffee consumption, desirability for living, \n",
    "population and specific location data including the presence of coffee shops that could stock and sell their products. To solve this problem, we will therefore refer to a number of different data sources.</p>\n",
    "To begin our assessment, a few of the specifics that we would like to understand include:\n",
    "<ul>\n",
    "    <li>Establish a list of target cities (Data source: <a href=\"https://weaverscoffee.com/blogs/blog/the-worlds-top-coffee-consuming-nations-and-how-they-take-their-cup\">countries that consume high amounts of coffee</a> and <a href=\"https://mobilityexchange.mercer.com/Insights/quality-of-living-rankings\">Mercer</a>)</li>\n",
    "    <li>Coffee consumption (Data source: <a href=\"http://www.ico.org/\">International Coffee Organization</a>)</li>\n",
    "    <li>Coffee shop density (Data source: Foursquare API)</li>\n",
    "    <li>Population Density (Data source: <a href=\"https://worldpopulationreview.com/world-cities/\">World population review</a>)</li>\n",
    "    <li>Quality of living (Data source: <a href=\"https://mobilityexchange.mercer.com/Insights/quality-of-living-rankings\">Mercer Quality of Living</a> survey</li>\n",
    "</ul>\n",
    "<b>Note:</b> Have assumed that our friends will undertake a separate study to compare inputs at each location such as cost (rent, labour, raw materials) and price economics to determine profitability of their business venture. Other cultural factors such as \n",
    "<br><br>\n",
    "<p>Some <a href=\"https://weaverscoffee.com/blogs/blog/the-worlds-top-coffee-consuming-nations-and-how-they-take-their-cup\">preliminary research</a> indicates that Scandinavian/Nordic countries tend to be the highest consumers of coffee per capita, therefore cities in these countries will be good place to start. Cities in this region consistently rank among the most desirable places to live on earth, particularly when it comes to <a href=\"https://mobilityexchange.mercer.com/Insights/quality-of-living-rankings\">quality of living.</a></p>\n",
    "Using these specifics we can then establish a metric to compare each city as follows:\n",
    "<h3>Score = NCA x P x O x L x Q</h3>\n",
    "\n",
    "<p><table>\n",
    "<tr>\n",
    "    <th>Where:</th><td></td>\n",
    "<tr>\n",
    "    <th>NCA</th><td>the avg national consumption of coffee per capita (Source: <a href=\"http://www.ico.org/\">International Coffee Organization</a>)</td>\n",
    "</tr>\n",
    "<tr>\n",
    "    <th>P</th><td>the population of the city (Source: <a href=\"https://worldpopulationreview.com/world-cities/\">World Population Review)</a></td>\n",
    "</tr>\n",
    "<tr>    \n",
    "    <th>O</th><td>the opportunity that consumers have to access our coffee. This is represented by the density of coffee shops within the target area (3km of the CBD)</td>\n",
    "</tr>\n",
    "<tr>    \n",
    "    <th>L</th><td>the likelihood that a consumer would buy our coffee when they are presented with a choice (For now we will assume this is the same for each city. For now we'll use a fixed value of 10% or 0.1)</td>\n",
    "</tr>\n",
    "<tr>\n",
    "    <th>Q</th><td>A measure of the Quality of living, using the ranking in the <a href=\"https://mobilityexchange.mercer.com/Insights/quality-of-living-rankings\">Mercer Quality of Living</a> survey</td>\n",
    "</tr>\n",
    "</table></p>\n",
    "<p>Our work is to find the value for O in the metric calculation for each city, complete the formula and provide a recommendation based upon the outcome (the highest score).<br><br>\n",
    "To find the value for <b>O</b> will call on the Foursquare API, to provide us location information relating to each city we are trying to compare. In particular, we are going to look for the number of coffee shops, located within a 3km radius of the CBD.</p>"
   ]
  }
 ],
 "metadata": {
  "kernelspec": {
   "display_name": "Python",
   "language": "python",
   "name": "conda-env-python-py"
  },
  "language_info": {
   "codemirror_mode": {
    "name": "ipython",
    "version": 3
   },
   "file_extension": ".py",
   "mimetype": "text/x-python",
   "name": "python",
   "nbconvert_exporter": "python",
   "pygments_lexer": "ipython3",
   "version": "3.6.10"
  }
 },
 "nbformat": 4,
 "nbformat_minor": 4
}
